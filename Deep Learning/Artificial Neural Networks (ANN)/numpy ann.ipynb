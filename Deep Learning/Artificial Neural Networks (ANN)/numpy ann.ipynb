{
 "cells": [
  {
   "cell_type": "code",
   "execution_count": 2,
   "id": "ace98a96",
   "metadata": {},
   "outputs": [],
   "source": [
    "import numpy as np\n",
    "import pandas as pd \n",
    "import matplotlib.pyplot as plt"
   ]
  },
  {
   "cell_type": "code",
   "execution_count": 3,
   "id": "ef3d5c3e",
   "metadata": {},
   "outputs": [],
   "source": [
    "def init_params(n_units):\n",
    "    n_layers= len(n_units)\n",
    "    params= {}\n",
    "    for i in range(1, n_layers):\n",
    "        params[\"W\"+str(i)]= np.random.randn(n_units[i],n_units[i-1])*0.1 \n",
    "        params[\"b\"+str(i)]= np.zeros((n_units[i],1))\n",
    "        \n",
    "    return params\n",
    "    "
   ]
  },
  {
   "cell_type": "code",
   "execution_count": 4,
   "id": "1c94d1bc",
   "metadata": {},
   "outputs": [],
   "source": [
    "def relu(z):\n",
    "    a= np.maximum(0,z)\n",
    "    return a"
   ]
  },
  {
   "cell_type": "code",
   "execution_count": 5,
   "id": "63e25097",
   "metadata": {},
   "outputs": [],
   "source": [
    "def d_relu(da, z):\n",
    "    dz = np.array(da, copy= True)\n",
    "    dz[z<=0] = 0\n",
    "    return dz"
   ]
  },
  {
   "cell_type": "code",
   "execution_count": 6,
   "id": "7f4d95be",
   "metadata": {},
   "outputs": [],
   "source": [
    "def sigmoid(z):\n",
    "    a = 1/(1+np.exp(-z))\n",
    "    return a\n"
   ]
  },
  {
   "cell_type": "code",
   "execution_count": 7,
   "id": "74946661",
   "metadata": {},
   "outputs": [],
   "source": [
    "def d_sigmoid(da , z):\n",
    "    s = sigmoid(z)\n",
    "    dz = da * s*(1-s)\n",
    "    return dz"
   ]
  },
  {
   "cell_type": "code",
   "execution_count": 8,
   "id": "d783d0b0",
   "metadata": {},
   "outputs": [],
   "source": [
    "def forward_prop(X,params):\n",
    "    A= []\n",
    "    Z= {}\n",
    "\n",
    "    A.append(X)\n",
    "    l = len(params)//2\n",
    "    for i in range(1,l):\n",
    "        Z[str(i)] = np.dot(params[\"W\"+str(i)], A[i-1]) + params['b'+str(i)]\n",
    "        A.append( relu(Z[str(i)]) )  \n",
    "    \n",
    "    Z[str(l)] = np.dot(params[\"W\"+str(l)], A[l-1]) + params['b'+str(l)]\n",
    "    A.append( sigmoid(Z[str(l)]) )\n",
    "    return A[l], A ,Z"
   ]
  },
  {
   "cell_type": "code",
   "execution_count": 47,
   "id": "4d30d2ac",
   "metadata": {},
   "outputs": [],
   "source": [
    "def cost(ypred, y):\n",
    "#     assert ypred.shape == y.shape , f'shape is not equal {ypred.shape} != {y.shape}'\n",
    "    m = y.shape[0]\n",
    "    cost = (-1/m) * ( np.dot(y,np.log(ypred).T) + np.dot((1-y), np.log(1-ypred).T) )\n",
    "    return np.squeeze(cost)"
   ]
  },
  {
   "cell_type": "code",
   "execution_count": 10,
   "id": "809924c6",
   "metadata": {},
   "outputs": [],
   "source": [
    "def d_cost(ypred, y):\n",
    "    da = - ( ( y/ypred) - (1-y)/(1-ypred) )\n",
    "    return da"
   ]
  },
  {
   "cell_type": "code",
   "execution_count": 48,
   "id": "1217943a",
   "metadata": {},
   "outputs": [],
   "source": [
    "def backward_prop(A, y, Z, params):\n",
    "    l = len(params)/2\n",
    "    d_params= {}\n",
    "    m = y.shape[0]\n",
    "#     da_prev = d_cost(A , y )\n",
    "    dz = A[l]-y\n",
    "    d_params['dz'+str(l)] = dz\n",
    "\n",
    "    for i in range(l,0,-1):\n",
    "        dz = d_params['dz'+str(i)]\n",
    "        w = params.get('W'+str(i))\n",
    "\n",
    "        dw = (dz * A[i-1]) /m\n",
    "        db = np.sum(dz, axis=1, keepdims=True) /m\n",
    "        da = np.dot(w, dz)\n",
    "        dz = d_relu(da,Z)\n",
    "        \n",
    "        d_params['da'+str(i-1)] = da\n",
    "        d_params['dz'+str(i)] = dz\n",
    "        d_params['dw'+str(i)] = dw\n",
    "        d_params['db'+str(i)] = db\n",
    "\n",
    "        \n",
    "\n",
    "        "
   ]
  },
  {
   "cell_type": "code",
   "execution_count": 12,
   "id": "dfbf892e",
   "metadata": {},
   "outputs": [],
   "source": [
    "def update_params(params, d_params,lr):\n",
    "    l= len(params)/2\n",
    "    for i in range(1, l+1):\n",
    "        params[\"W\"+str(i)] -= lr*d_params[\"dw\"+str(i)]\n",
    "        params[\"b\"+str(i)] -= lr*d_params['db'+str(i)] \n",
    "        \n",
    "    return params"
   ]
  },
  {
   "cell_type": "code",
   "execution_count": 14,
   "id": "5670fa21",
   "metadata": {},
   "outputs": [],
   "source": [
    "from keras.datasets import mnist"
   ]
  },
  {
   "cell_type": "code",
   "execution_count": 16,
   "id": "645e18b0",
   "metadata": {},
   "outputs": [
    {
     "name": "stdout",
     "output_type": "stream",
     "text": [
      "Downloading data from https://storage.googleapis.com/tensorflow/tf-keras-datasets/mnist.npz\n",
      "11490434/11490434 [==============================] - 31s 3us/step\n"
     ]
    }
   ],
   "source": [
    "(x_train, y_train), (x_test, y_test) = mnist.load_data()"
   ]
  },
  {
   "cell_type": "code",
   "execution_count": 31,
   "id": "52e9a0f6",
   "metadata": {},
   "outputs": [
    {
     "data": {
      "text/plain": [
       "(60000, 784)"
      ]
     },
     "execution_count": 31,
     "metadata": {},
     "output_type": "execute_result"
    }
   ],
   "source": [
    "x_train.shape"
   ]
  },
  {
   "cell_type": "code",
   "execution_count": 32,
   "id": "7cf78912",
   "metadata": {},
   "outputs": [
    {
     "data": {
      "text/plain": [
       "(10000, 784)"
      ]
     },
     "execution_count": 32,
     "metadata": {},
     "output_type": "execute_result"
    }
   ],
   "source": [
    "x_test.shape"
   ]
  },
  {
   "cell_type": "code",
   "execution_count": 29,
   "id": "705e76b5",
   "metadata": {},
   "outputs": [],
   "source": [
    "x_test = x_test.reshape(10000,28*28)"
   ]
  },
  {
   "cell_type": "code",
   "execution_count": 22,
   "id": "6cfaf8c2",
   "metadata": {},
   "outputs": [],
   "source": [
    "x_train = x_train/255\n",
    "x_test = x_test/255"
   ]
  },
  {
   "cell_type": "code",
   "execution_count": 30,
   "id": "39e65bc0",
   "metadata": {},
   "outputs": [],
   "source": [
    "x_train = x_train.reshape(60000,28*28)"
   ]
  },
  {
   "cell_type": "code",
   "execution_count": null,
   "id": "121f377c",
   "metadata": {},
   "outputs": [],
   "source": []
  },
  {
   "cell_type": "code",
   "execution_count": 40,
   "id": "aabcab15",
   "metadata": {},
   "outputs": [],
   "source": [
    "X= x_train.T"
   ]
  },
  {
   "cell_type": "code",
   "execution_count": 41,
   "id": "042caafc",
   "metadata": {},
   "outputs": [],
   "source": [
    "y= y_train"
   ]
  },
  {
   "cell_type": "code",
   "execution_count": null,
   "id": "d19a6869",
   "metadata": {},
   "outputs": [],
   "source": [
    "costs = []\n",
    "params = init_params([x_train.shape[1],512,256, 256,128 ,64,10])\n",
    "for i in range(1,1000):\n",
    "    ypred, A , Z = forward_prop(X,params)\n",
    "    costs += cost(ypred, y)\n",
    "    d_params= backward_prop(ypred, y, Z, params)\n",
    "    params= update_params(params, d_params)"
   ]
  },
  {
   "cell_type": "code",
   "execution_count": null,
   "id": "00d334f0",
   "metadata": {},
   "outputs": [],
   "source": []
  }
 ],
 "metadata": {
  "kernelspec": {
   "display_name": "Python 3 (ipykernel)",
   "language": "python",
   "name": "python3"
  },
  "language_info": {
   "codemirror_mode": {
    "name": "ipython",
    "version": 3
   },
   "file_extension": ".py",
   "mimetype": "text/x-python",
   "name": "python",
   "nbconvert_exporter": "python",
   "pygments_lexer": "ipython3",
   "version": "3.9.12"
  }
 },
 "nbformat": 4,
 "nbformat_minor": 5
}
