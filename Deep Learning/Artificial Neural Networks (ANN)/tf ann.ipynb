{
 "cells": [
  {
   "cell_type": "code",
   "execution_count": 198,
   "id": "571600de",
   "metadata": {},
   "outputs": [],
   "source": [
    "import numpy as np \n",
    "import tensorflow as tf\n",
    "import tensorflow.compat.v1 as tf1\n",
    "import pandas as pd\n",
    "import matplotlib.pyplot as plt\n",
    "import math\n",
    "from  tensorflow.python.framework import ops\n"
   ]
  },
  {
   "cell_type": "code",
   "execution_count": 199,
   "id": "aee9965f",
   "metadata": {},
   "outputs": [],
   "source": [
    "tf.compat.v1.disable_eager_execution()"
   ]
  },
  {
   "cell_type": "code",
   "execution_count": 200,
   "id": "1f2690da",
   "metadata": {},
   "outputs": [],
   "source": [
    "import h5py"
   ]
  },
  {
   "cell_type": "code",
   "execution_count": 201,
   "id": "f00e2410",
   "metadata": {},
   "outputs": [],
   "source": [
    "from tensorflow.keras.datasets import mnist"
   ]
  },
  {
   "cell_type": "code",
   "execution_count": 202,
   "id": "191bec5b",
   "metadata": {},
   "outputs": [],
   "source": [
    " (x_train, y_train), (x_test, y_test) = mnist.load_data()"
   ]
  },
  {
   "cell_type": "code",
   "execution_count": 203,
   "id": "271fc221",
   "metadata": {},
   "outputs": [
    {
     "data": {
      "text/plain": [
       "(60000, 28, 28)"
      ]
     },
     "execution_count": 203,
     "metadata": {},
     "output_type": "execute_result"
    }
   ],
   "source": [
    "x_train.shape"
   ]
  },
  {
   "cell_type": "code",
   "execution_count": 204,
   "id": "a2bee9d4",
   "metadata": {},
   "outputs": [],
   "source": [
    "x_train = x_train.reshape( (x_train.shape[0],x_train.shape[1]*x_train.shape[2]) )/255"
   ]
  },
  {
   "cell_type": "code",
   "execution_count": 205,
   "id": "ede1a8db",
   "metadata": {},
   "outputs": [
    {
     "data": {
      "text/plain": [
       "(60000, 784)"
      ]
     },
     "execution_count": 205,
     "metadata": {},
     "output_type": "execute_result"
    }
   ],
   "source": [
    "x_train.shape"
   ]
  },
  {
   "cell_type": "code",
   "execution_count": 235,
   "id": "3880a078",
   "metadata": {},
   "outputs": [
    {
     "data": {
      "text/plain": [
       "array([2], dtype=uint8)"
      ]
     },
     "execution_count": 235,
     "metadata": {},
     "output_type": "execute_result"
    }
   ],
   "source": [
    "y_train[5]"
   ]
  },
  {
   "cell_type": "code",
   "execution_count": 206,
   "id": "15f1cda6",
   "metadata": {},
   "outputs": [],
   "source": [
    "x_test = x_test.reshape( (x_test.shape[0], x_test.shape[1] * x_test.shape[2]) )/255"
   ]
  },
  {
   "cell_type": "code",
   "execution_count": 207,
   "id": "e747fba0",
   "metadata": {},
   "outputs": [
    {
     "data": {
      "text/plain": [
       "(10000, 784)"
      ]
     },
     "execution_count": 207,
     "metadata": {},
     "output_type": "execute_result"
    }
   ],
   "source": [
    "x_test.shape"
   ]
  },
  {
   "cell_type": "code",
   "execution_count": 208,
   "id": "227a4c27",
   "metadata": {},
   "outputs": [],
   "source": [
    "y_train = y_train.reshape(y_train.shape[0],1)"
   ]
  },
  {
   "cell_type": "code",
   "execution_count": 209,
   "id": "12c35bbc",
   "metadata": {},
   "outputs": [],
   "source": [
    "def create_placeholder(n_x, n_y):\n",
    "    X = tf1.placeholder(shape = [None,n_x], dtype = tf.float32, name = 'X')\n",
    "    y = tf1.placeholder(shape = [None,n_y], dtype = tf.float32, name = 'y')\n",
    "    return X,y"
   ]
  },
  {
   "cell_type": "code",
   "execution_count": null,
   "id": "9ba1495d",
   "metadata": {},
   "outputs": [],
   "source": []
  },
  {
   "cell_type": "code",
   "execution_count": 210,
   "id": "0e31c96e",
   "metadata": {},
   "outputs": [],
   "source": [
    "X , y = create_placeholder((28*28),1)"
   ]
  },
  {
   "cell_type": "code",
   "execution_count": 211,
   "id": "b2be9e9c",
   "metadata": {},
   "outputs": [],
   "source": [
    "def init_params(n_units):\n",
    "    tf1.set_random_seed(1)\n",
    "    l = len(n_units)\n",
    "    params = {}\n",
    "    for i in range(1,l):\n",
    "        params[\"w\"+str(i)] = tf1.get_variable(\"w\"+str(i),[n_units[i] , n_units[i-1]],\\\n",
    "                                             initializer= tf.initializers.glorot_uniform(seed=1))\n",
    "        params[\"b\"+str(i)] = tf1.get_variable(\"b\"+str(i),[n_units[i] , 1],initializer= tf.initializers.Zeros())\n",
    "        \n",
    "    return params\n",
    "        "
   ]
  },
  {
   "cell_type": "code",
   "execution_count": 212,
   "id": "905f4e64",
   "metadata": {},
   "outputs": [],
   "source": [
    "tf1.reset_default_graph()\n",
    "with tf1.Session() as sess:\n",
    "    init_params([21,43,53])"
   ]
  },
  {
   "cell_type": "code",
   "execution_count": 213,
   "id": "511c6f53",
   "metadata": {},
   "outputs": [],
   "source": [
    "def forward_prop(X, params):\n",
    "    l = len(params)//2\n",
    "    A={}\n",
    "    Z={}\n",
    "    A[0]= X\n",
    "    for i in range(1,l):\n",
    "        w = params.get(\"w\"+str(i))\n",
    "        b = params.get(\"b\"+str(i))\n",
    "        Z[i] = tf.add(tf.matmul (w,A[i-1],transpose_a=False) ,b)\n",
    "        A[i] = tf.nn.relu(Z[i])\n",
    "        \n",
    "    w = params.get(\"w\"+str(l))\n",
    "    b = params.get(\"b\"+str(l))\n",
    "    Z[l] = tf.add(tf.matmul (w,A[l-1], transpose_a=False) ,b)\n",
    "    return Z[l]\n",
    "        \n",
    "        "
   ]
  },
  {
   "cell_type": "code",
   "execution_count": 214,
   "id": "c6f33df7",
   "metadata": {},
   "outputs": [],
   "source": [
    "def compute_cost(Zl, y):\n",
    "    logits = tf.transpose(Zl)\n",
    "    labels = tf.transpose(y)\n",
    "    cost = tf.reduce_mean(tf.nn.softmax_cross_entropy_with_logits(labels= labels, logits= logits))\n",
    "    return cost"
   ]
  },
  {
   "cell_type": "code",
   "execution_count": 218,
   "id": "e27e3cec",
   "metadata": {},
   "outputs": [],
   "source": [
    "def random_mini_bathces(x, y, batch_size,seed):\n",
    "    m = x.shape[0]\n",
    "    mini_batches = []\n",
    "    np.random.seed(seed)\n",
    "    permutation = list(np.random.permutation(m))\n",
    "    shuffled_x = x[permutation,:]\n",
    "    shuffled_y = y[permutation,:].reshape((m,y.shape[1]))\n",
    "    num_complete_minibatches = math.floor(m/batch_size)\n",
    "    for k in range(0,num_complete_minibatches):\n",
    "        batch_x = shuffled_x[ k*batch_size:k*batch_size+batch_size,:]\n",
    "        batch_y = shuffled_y[ k*batch_size:k*batch_size+batch_size,:]\n",
    "        mini_batches.append((batch_x,batch_y))\n",
    "    if m % batch_size != 0 :\n",
    "        batch_x = shuffled_x[ num_complete_minibatches*batch_size:m,:]\n",
    "        batch_y = shuffled_y[ num_complete_minibatches*batch_size:m,:]\n",
    "        mini_batches.append((batch_x,batch_y))\n",
    "    return mini_batches"
   ]
  },
  {
   "cell_type": "code",
   "execution_count": 236,
   "id": "18f59925",
   "metadata": {},
   "outputs": [],
   "source": [
    "def model(x, y, x_test, y_test, learning_rate= 0.0001, epochs=1500, batch_size= 32, print_cost=True ):\n",
    "    ops.reset_default_graph()\n",
    "    tf1.set_random_seed(1)\n",
    "    seed = 3\n",
    "    (m, n_x) = x.shape\n",
    "    n_y = y.shape[1]\n",
    "    costs = []\n",
    "    \n",
    "    X , Y = create_placeholder(n_x,n_y)\n",
    "    params = init_params([(28*28),64,32,32,10,1])\n",
    "    Zl = forward_prop(X, params)\n",
    "    cost = compute_cost(Zl, Y)\n",
    "    optimizer = tf1.train.AdamOptimizer(learning_rate= learning_rate).minimize(cost)\n",
    "    init = tf1.global_variables_initializer()\n",
    "    with tf1.Session() as  sess:\n",
    "        sess.run(init)\n",
    "        \n",
    "        for epoch in range(epochs):\n",
    "            epoch_cost = 0\n",
    "            num_batches = int (m /batch_size)\n",
    "            seed +=1\n",
    "            batches = random_mini_bathces(x, y, batch_size,seed)\n",
    "            \n",
    "            for batch in batches:\n",
    "                batch_x, batch_y = batch\n",
    "                _,batch_cost = sess.run([optimizer,cost], feed_dict={X:batch_x,Y:batch_y})\n",
    "                \n",
    "                epoch_cost+= batch_cost / num_batches\n",
    "            \n",
    "            if print_cost and epoch % 100 == 0 :\n",
    "                print(f'cost after epoch {epoch} : {epoch_cost}')\n",
    "            if print_cost and epoch % 5 == 0 :\n",
    "                costs.append(epoch_cost)\n",
    "        \n",
    "        plt.plot(np.squeeze(costs))\n",
    "        plt.ylabel('cost')\n",
    "        plt.xlabel('iter per fives')\n",
    "        plt.show()\n",
    "        \n",
    "        params = sess.run(params)\n",
    "        correct_pred = tf.equal(tf.argmax(Zl),tf.argmax(Y))\n",
    "        acc = tf.reduce_mean(tf.cast(correct_pred,'float'))\n",
    "        \n",
    "        print(f\"train acc :\",acc.eval({X:x,Y:y}))\n",
    "        print(f\"test acc :\",acc.eval({X:x_test,Y:y_test}))\n",
    "        \n",
    "        return params\n",
    "\n",
    "                "
   ]
  },
  {
   "cell_type": "code",
   "execution_count": 237,
   "id": "afe7f445",
   "metadata": {},
   "outputs": [
    {
     "ename": "ValueError",
     "evalue": "Incompatible shapes between op input and calculated input gradient. Forward operation: softmax_cross_entropy_with_logits. Input index: 1. Original input shape: (1, ?). Calculated input gradient shape: (784, 1)",
     "output_type": "error",
     "traceback": [
      "\u001b[0;31m---------------------------------------------------------------------------\u001b[0m",
      "\u001b[0;31mInvalidArgumentError\u001b[0m                      Traceback (most recent call last)",
      "File \u001b[0;32m~/anaconda3/lib/python3.9/site-packages/tensorflow/python/framework/ops.py:830\u001b[0m, in \u001b[0;36mTensor.set_shape\u001b[0;34m(self, shape)\u001b[0m\n\u001b[1;32m    829\u001b[0m   \u001b[38;5;28;01mwith\u001b[39;00m \u001b[38;5;28mself\u001b[39m\u001b[38;5;241m.\u001b[39m_op\u001b[38;5;241m.\u001b[39m_graph\u001b[38;5;241m.\u001b[39m_c_graph\u001b[38;5;241m.\u001b[39mget() \u001b[38;5;28;01mas\u001b[39;00m c_graph:  \u001b[38;5;66;03m# pylint: disable=protected-access\u001b[39;00m\n\u001b[0;32m--> 830\u001b[0m     \u001b[43mpywrap_tf_session\u001b[49m\u001b[38;5;241;43m.\u001b[39;49m\u001b[43mTF_GraphSetTensorShape_wrapper\u001b[49m\u001b[43m(\u001b[49m\n\u001b[1;32m    831\u001b[0m \u001b[43m        \u001b[49m\u001b[43mc_graph\u001b[49m\u001b[43m,\u001b[49m\u001b[43m \u001b[49m\u001b[38;5;28;43mself\u001b[39;49m\u001b[38;5;241;43m.\u001b[39;49m\u001b[43m_as_tf_output\u001b[49m\u001b[43m(\u001b[49m\u001b[43m)\u001b[49m\u001b[43m,\u001b[49m\u001b[43m \u001b[49m\u001b[43mdim_list\u001b[49m\u001b[43m,\u001b[49m\u001b[43m \u001b[49m\u001b[43munknown_shape\u001b[49m\u001b[43m)\u001b[49m\n\u001b[1;32m    832\u001b[0m \u001b[38;5;28;01mexcept\u001b[39;00m errors\u001b[38;5;241m.\u001b[39mInvalidArgumentError \u001b[38;5;28;01mas\u001b[39;00m e:\n\u001b[1;32m    833\u001b[0m   \u001b[38;5;66;03m# Convert to ValueError for backwards compatibility.\u001b[39;00m\n",
      "\u001b[0;31mInvalidArgumentError\u001b[0m: Dimension 0 in both shapes must be equal, but are 784 and 1. Shapes are [784,1] and [1,?].",
      "\nDuring handling of the above exception, another exception occurred:\n",
      "\u001b[0;31mValueError\u001b[0m                                Traceback (most recent call last)",
      "File \u001b[0;32m~/anaconda3/lib/python3.9/site-packages/tensorflow/python/ops/gradients_util.py:724\u001b[0m, in \u001b[0;36m_GradientsHelper\u001b[0;34m(ys, xs, grad_ys, name, colocate_gradients_with_ops, gate_gradients, aggregation_method, stop_gradients, unconnected_gradients, src_graph)\u001b[0m\n\u001b[1;32m    723\u001b[0m \u001b[38;5;28;01mtry\u001b[39;00m:\n\u001b[0;32m--> 724\u001b[0m   \u001b[43min_grad\u001b[49m\u001b[38;5;241;43m.\u001b[39;49m\u001b[43mset_shape\u001b[49m\u001b[43m(\u001b[49m\u001b[43mt_in\u001b[49m\u001b[38;5;241;43m.\u001b[39;49m\u001b[43mget_shape\u001b[49m\u001b[43m(\u001b[49m\u001b[43m)\u001b[49m\u001b[43m)\u001b[49m\n\u001b[1;32m    725\u001b[0m \u001b[38;5;28;01mexcept\u001b[39;00m \u001b[38;5;167;01mValueError\u001b[39;00m:\n",
      "File \u001b[0;32m~/anaconda3/lib/python3.9/site-packages/tensorflow/python/framework/ops.py:834\u001b[0m, in \u001b[0;36mTensor.set_shape\u001b[0;34m(self, shape)\u001b[0m\n\u001b[1;32m    832\u001b[0m \u001b[38;5;28;01mexcept\u001b[39;00m errors\u001b[38;5;241m.\u001b[39mInvalidArgumentError \u001b[38;5;28;01mas\u001b[39;00m e:\n\u001b[1;32m    833\u001b[0m   \u001b[38;5;66;03m# Convert to ValueError for backwards compatibility.\u001b[39;00m\n\u001b[0;32m--> 834\u001b[0m   \u001b[38;5;28;01mraise\u001b[39;00m \u001b[38;5;167;01mValueError\u001b[39;00m(e\u001b[38;5;241m.\u001b[39mmessage)\n",
      "\u001b[0;31mValueError\u001b[0m: Dimension 0 in both shapes must be equal, but are 784 and 1. Shapes are [784,1] and [1,?].",
      "\nDuring handling of the above exception, another exception occurred:\n",
      "\u001b[0;31mValueError\u001b[0m                                Traceback (most recent call last)",
      "Input \u001b[0;32mIn [237]\u001b[0m, in \u001b[0;36m<cell line: 1>\u001b[0;34m()\u001b[0m\n\u001b[0;32m----> 1\u001b[0m params \u001b[38;5;241m=\u001b[39m \u001b[43mmodel\u001b[49m\u001b[43m(\u001b[49m\u001b[43mx_train\u001b[49m\u001b[43m,\u001b[49m\u001b[43my_train\u001b[49m\u001b[43m,\u001b[49m\u001b[43mx_test\u001b[49m\u001b[43m,\u001b[49m\u001b[43my_test\u001b[49m\u001b[43m)\u001b[49m\n",
      "Input \u001b[0;32mIn [236]\u001b[0m, in \u001b[0;36mmodel\u001b[0;34m(x, y, x_test, y_test, learning_rate, epochs, batch_size, print_cost)\u001b[0m\n\u001b[1;32m     11\u001b[0m Zl \u001b[38;5;241m=\u001b[39m forward_prop(X, params)\n\u001b[1;32m     12\u001b[0m cost \u001b[38;5;241m=\u001b[39m compute_cost(Zl, Y)\n\u001b[0;32m---> 13\u001b[0m optimizer \u001b[38;5;241m=\u001b[39m \u001b[43mtf1\u001b[49m\u001b[38;5;241;43m.\u001b[39;49m\u001b[43mtrain\u001b[49m\u001b[38;5;241;43m.\u001b[39;49m\u001b[43mAdamOptimizer\u001b[49m\u001b[43m(\u001b[49m\u001b[43mlearning_rate\u001b[49m\u001b[38;5;241;43m=\u001b[39;49m\u001b[43m \u001b[49m\u001b[43mlearning_rate\u001b[49m\u001b[43m)\u001b[49m\u001b[38;5;241;43m.\u001b[39;49m\u001b[43mminimize\u001b[49m\u001b[43m(\u001b[49m\u001b[43mcost\u001b[49m\u001b[43m)\u001b[49m\n\u001b[1;32m     14\u001b[0m init \u001b[38;5;241m=\u001b[39m tf1\u001b[38;5;241m.\u001b[39mglobal_variables_initializer()\n\u001b[1;32m     15\u001b[0m \u001b[38;5;28;01mwith\u001b[39;00m tf1\u001b[38;5;241m.\u001b[39mSession() \u001b[38;5;28;01mas\u001b[39;00m  sess:\n",
      "File \u001b[0;32m~/anaconda3/lib/python3.9/site-packages/tensorflow/python/training/optimizer.py:477\u001b[0m, in \u001b[0;36mOptimizer.minimize\u001b[0;34m(self, loss, global_step, var_list, gate_gradients, aggregation_method, colocate_gradients_with_ops, name, grad_loss)\u001b[0m\n\u001b[1;32m    433\u001b[0m \u001b[38;5;28;01mdef\u001b[39;00m \u001b[38;5;21mminimize\u001b[39m(\u001b[38;5;28mself\u001b[39m, loss, global_step\u001b[38;5;241m=\u001b[39m\u001b[38;5;28;01mNone\u001b[39;00m, var_list\u001b[38;5;241m=\u001b[39m\u001b[38;5;28;01mNone\u001b[39;00m,\n\u001b[1;32m    434\u001b[0m              gate_gradients\u001b[38;5;241m=\u001b[39mGATE_OP, aggregation_method\u001b[38;5;241m=\u001b[39m\u001b[38;5;28;01mNone\u001b[39;00m,\n\u001b[1;32m    435\u001b[0m              colocate_gradients_with_ops\u001b[38;5;241m=\u001b[39m\u001b[38;5;28;01mFalse\u001b[39;00m, name\u001b[38;5;241m=\u001b[39m\u001b[38;5;28;01mNone\u001b[39;00m,\n\u001b[1;32m    436\u001b[0m              grad_loss\u001b[38;5;241m=\u001b[39m\u001b[38;5;28;01mNone\u001b[39;00m):\n\u001b[1;32m    437\u001b[0m   \u001b[38;5;124;03m\"\"\"Add operations to minimize `loss` by updating `var_list`.\u001b[39;00m\n\u001b[1;32m    438\u001b[0m \n\u001b[1;32m    439\u001b[0m \u001b[38;5;124;03m  This method simply combines calls `compute_gradients()` and\u001b[39;00m\n\u001b[0;32m   (...)\u001b[0m\n\u001b[1;32m    475\u001b[0m \u001b[38;5;124;03m  @end_compatibility\u001b[39;00m\n\u001b[1;32m    476\u001b[0m \u001b[38;5;124;03m  \"\"\"\u001b[39;00m\n\u001b[0;32m--> 477\u001b[0m   grads_and_vars \u001b[38;5;241m=\u001b[39m \u001b[38;5;28;43mself\u001b[39;49m\u001b[38;5;241;43m.\u001b[39;49m\u001b[43mcompute_gradients\u001b[49m\u001b[43m(\u001b[49m\n\u001b[1;32m    478\u001b[0m \u001b[43m      \u001b[49m\u001b[43mloss\u001b[49m\u001b[43m,\u001b[49m\u001b[43m \u001b[49m\u001b[43mvar_list\u001b[49m\u001b[38;5;241;43m=\u001b[39;49m\u001b[43mvar_list\u001b[49m\u001b[43m,\u001b[49m\u001b[43m \u001b[49m\u001b[43mgate_gradients\u001b[49m\u001b[38;5;241;43m=\u001b[39;49m\u001b[43mgate_gradients\u001b[49m\u001b[43m,\u001b[49m\n\u001b[1;32m    479\u001b[0m \u001b[43m      \u001b[49m\u001b[43maggregation_method\u001b[49m\u001b[38;5;241;43m=\u001b[39;49m\u001b[43maggregation_method\u001b[49m\u001b[43m,\u001b[49m\n\u001b[1;32m    480\u001b[0m \u001b[43m      \u001b[49m\u001b[43mcolocate_gradients_with_ops\u001b[49m\u001b[38;5;241;43m=\u001b[39;49m\u001b[43mcolocate_gradients_with_ops\u001b[49m\u001b[43m,\u001b[49m\n\u001b[1;32m    481\u001b[0m \u001b[43m      \u001b[49m\u001b[43mgrad_loss\u001b[49m\u001b[38;5;241;43m=\u001b[39;49m\u001b[43mgrad_loss\u001b[49m\u001b[43m)\u001b[49m\n\u001b[1;32m    483\u001b[0m   vars_with_grad \u001b[38;5;241m=\u001b[39m [v \u001b[38;5;28;01mfor\u001b[39;00m g, v \u001b[38;5;129;01min\u001b[39;00m grads_and_vars \u001b[38;5;28;01mif\u001b[39;00m g \u001b[38;5;129;01mis\u001b[39;00m \u001b[38;5;129;01mnot\u001b[39;00m \u001b[38;5;28;01mNone\u001b[39;00m]\n\u001b[1;32m    484\u001b[0m   \u001b[38;5;28;01mif\u001b[39;00m \u001b[38;5;129;01mnot\u001b[39;00m vars_with_grad:\n",
      "File \u001b[0;32m~/anaconda3/lib/python3.9/site-packages/tensorflow/python/training/optimizer.py:603\u001b[0m, in \u001b[0;36mOptimizer.compute_gradients\u001b[0;34m(self, loss, var_list, gate_gradients, aggregation_method, colocate_gradients_with_ops, grad_loss)\u001b[0m\n\u001b[1;32m    601\u001b[0m   \u001b[38;5;28;01mraise\u001b[39;00m \u001b[38;5;167;01mValueError\u001b[39;00m(\u001b[38;5;124m\"\u001b[39m\u001b[38;5;124mNo variables to optimize.\u001b[39m\u001b[38;5;124m\"\u001b[39m)\n\u001b[1;32m    602\u001b[0m var_refs \u001b[38;5;241m=\u001b[39m [p\u001b[38;5;241m.\u001b[39mtarget() \u001b[38;5;28;01mfor\u001b[39;00m p \u001b[38;5;129;01min\u001b[39;00m processors]\n\u001b[0;32m--> 603\u001b[0m grads \u001b[38;5;241m=\u001b[39m \u001b[43mgradients\u001b[49m\u001b[38;5;241;43m.\u001b[39;49m\u001b[43mgradients\u001b[49m\u001b[43m(\u001b[49m\n\u001b[1;32m    604\u001b[0m \u001b[43m    \u001b[49m\u001b[43mloss\u001b[49m\u001b[43m,\u001b[49m\u001b[43m \u001b[49m\u001b[43mvar_refs\u001b[49m\u001b[43m,\u001b[49m\u001b[43m \u001b[49m\u001b[43mgrad_ys\u001b[49m\u001b[38;5;241;43m=\u001b[39;49m\u001b[43mgrad_loss\u001b[49m\u001b[43m,\u001b[49m\n\u001b[1;32m    605\u001b[0m \u001b[43m    \u001b[49m\u001b[43mgate_gradients\u001b[49m\u001b[38;5;241;43m=\u001b[39;49m\u001b[43m(\u001b[49m\u001b[43mgate_gradients\u001b[49m\u001b[43m \u001b[49m\u001b[38;5;241;43m==\u001b[39;49m\u001b[43m \u001b[49m\u001b[43mOptimizer\u001b[49m\u001b[38;5;241;43m.\u001b[39;49m\u001b[43mGATE_OP\u001b[49m\u001b[43m)\u001b[49m\u001b[43m,\u001b[49m\n\u001b[1;32m    606\u001b[0m \u001b[43m    \u001b[49m\u001b[43maggregation_method\u001b[49m\u001b[38;5;241;43m=\u001b[39;49m\u001b[43maggregation_method\u001b[49m\u001b[43m,\u001b[49m\n\u001b[1;32m    607\u001b[0m \u001b[43m    \u001b[49m\u001b[43mcolocate_gradients_with_ops\u001b[49m\u001b[38;5;241;43m=\u001b[39;49m\u001b[43mcolocate_gradients_with_ops\u001b[49m\u001b[43m)\u001b[49m\n\u001b[1;32m    608\u001b[0m \u001b[38;5;28;01mif\u001b[39;00m gate_gradients \u001b[38;5;241m==\u001b[39m Optimizer\u001b[38;5;241m.\u001b[39mGATE_GRAPH:\n\u001b[1;32m    609\u001b[0m   grads \u001b[38;5;241m=\u001b[39m control_flow_ops\u001b[38;5;241m.\u001b[39mtuple(grads)\n",
      "File \u001b[0;32m~/anaconda3/lib/python3.9/site-packages/tensorflow/python/ops/gradients_impl.py:165\u001b[0m, in \u001b[0;36mgradients\u001b[0;34m(ys, xs, grad_ys, name, colocate_gradients_with_ops, gate_gradients, aggregation_method, stop_gradients, unconnected_gradients)\u001b[0m\n\u001b[1;32m    160\u001b[0m \u001b[38;5;66;03m# Creating the gradient graph for control flow mutates Operations.\u001b[39;00m\n\u001b[1;32m    161\u001b[0m \u001b[38;5;66;03m# _mutation_lock ensures a Session.run call cannot occur between creating and\u001b[39;00m\n\u001b[1;32m    162\u001b[0m \u001b[38;5;66;03m# mutating new ops.\u001b[39;00m\n\u001b[1;32m    163\u001b[0m \u001b[38;5;66;03m# pylint: disable=protected-access\u001b[39;00m\n\u001b[1;32m    164\u001b[0m \u001b[38;5;28;01mwith\u001b[39;00m ops\u001b[38;5;241m.\u001b[39mget_default_graph()\u001b[38;5;241m.\u001b[39m_mutation_lock():\n\u001b[0;32m--> 165\u001b[0m   \u001b[38;5;28;01mreturn\u001b[39;00m \u001b[43mgradients_util\u001b[49m\u001b[38;5;241;43m.\u001b[39;49m\u001b[43m_GradientsHelper\u001b[49m\u001b[43m(\u001b[49m\n\u001b[1;32m    166\u001b[0m \u001b[43m      \u001b[49m\u001b[43mys\u001b[49m\u001b[43m,\u001b[49m\u001b[43m \u001b[49m\u001b[43mxs\u001b[49m\u001b[43m,\u001b[49m\u001b[43m \u001b[49m\u001b[43mgrad_ys\u001b[49m\u001b[43m,\u001b[49m\u001b[43m \u001b[49m\u001b[43mname\u001b[49m\u001b[43m,\u001b[49m\u001b[43m \u001b[49m\u001b[43mcolocate_gradients_with_ops\u001b[49m\u001b[43m,\u001b[49m\n\u001b[1;32m    167\u001b[0m \u001b[43m      \u001b[49m\u001b[43mgate_gradients\u001b[49m\u001b[43m,\u001b[49m\u001b[43m \u001b[49m\u001b[43maggregation_method\u001b[49m\u001b[43m,\u001b[49m\u001b[43m \u001b[49m\u001b[43mstop_gradients\u001b[49m\u001b[43m,\u001b[49m\n\u001b[1;32m    168\u001b[0m \u001b[43m      \u001b[49m\u001b[43munconnected_gradients\u001b[49m\u001b[43m)\u001b[49m\n",
      "File \u001b[0;32m~/anaconda3/lib/python3.9/site-packages/tensorflow/python/ops/gradients_util.py:726\u001b[0m, in \u001b[0;36m_GradientsHelper\u001b[0;34m(ys, xs, grad_ys, name, colocate_gradients_with_ops, gate_gradients, aggregation_method, stop_gradients, unconnected_gradients, src_graph)\u001b[0m\n\u001b[1;32m    724\u001b[0m     in_grad\u001b[38;5;241m.\u001b[39mset_shape(t_in\u001b[38;5;241m.\u001b[39mget_shape())\n\u001b[1;32m    725\u001b[0m   \u001b[38;5;28;01mexcept\u001b[39;00m \u001b[38;5;167;01mValueError\u001b[39;00m:\n\u001b[0;32m--> 726\u001b[0m     \u001b[38;5;28;01mraise\u001b[39;00m \u001b[38;5;167;01mValueError\u001b[39;00m(\n\u001b[1;32m    727\u001b[0m         \u001b[38;5;124m\"\u001b[39m\u001b[38;5;124mIncompatible shapes between op input and calculated \u001b[39m\u001b[38;5;124m\"\u001b[39m\n\u001b[1;32m    728\u001b[0m         \u001b[38;5;124mf\u001b[39m\u001b[38;5;124m\"\u001b[39m\u001b[38;5;124minput gradient. Forward operation: \u001b[39m\u001b[38;5;132;01m{\u001b[39;00mop\u001b[38;5;241m.\u001b[39mname\u001b[38;5;132;01m}\u001b[39;00m\u001b[38;5;124m. Input \u001b[39m\u001b[38;5;124m\"\u001b[39m\n\u001b[1;32m    729\u001b[0m         \u001b[38;5;124mf\u001b[39m\u001b[38;5;124m\"\u001b[39m\u001b[38;5;124mindex: \u001b[39m\u001b[38;5;132;01m{\u001b[39;00mi\u001b[38;5;132;01m}\u001b[39;00m\u001b[38;5;124m. Original input shape: \u001b[39m\u001b[38;5;132;01m{\u001b[39;00mt_in\u001b[38;5;241m.\u001b[39mshape\u001b[38;5;132;01m}\u001b[39;00m\u001b[38;5;124m. \u001b[39m\u001b[38;5;124m\"\u001b[39m\n\u001b[1;32m    730\u001b[0m         \u001b[38;5;124mf\u001b[39m\u001b[38;5;124m\"\u001b[39m\u001b[38;5;124mCalculated input gradient shape: \u001b[39m\u001b[38;5;132;01m{\u001b[39;00min_grad\u001b[38;5;241m.\u001b[39mshape\u001b[38;5;132;01m}\u001b[39;00m\u001b[38;5;124m\"\u001b[39m)\n\u001b[1;32m    731\u001b[0m \u001b[38;5;28;01mif\u001b[39;00m \u001b[38;5;129;01mnot\u001b[39;00m \u001b[38;5;28misinstance\u001b[39m(t_in, ops\u001b[38;5;241m.\u001b[39mEagerTensor):\n\u001b[1;32m    732\u001b[0m   _SetGrad(grads, t_in, in_grad)\n",
      "\u001b[0;31mValueError\u001b[0m: Incompatible shapes between op input and calculated input gradient. Forward operation: softmax_cross_entropy_with_logits. Input index: 1. Original input shape: (1, ?). Calculated input gradient shape: (784, 1)"
     ]
    }
   ],
   "source": [
    "params = model(x_train,y_train,x_test,y_test)"
   ]
  },
  {
   "cell_type": "code",
   "execution_count": null,
   "id": "a12cc7e6",
   "metadata": {},
   "outputs": [],
   "source": []
  },
  {
   "cell_type": "code",
   "execution_count": null,
   "id": "92082935",
   "metadata": {},
   "outputs": [],
   "source": []
  }
 ],
 "metadata": {
  "kernelspec": {
   "display_name": "Python 3 (ipykernel)",
   "language": "python",
   "name": "python3"
  },
  "language_info": {
   "codemirror_mode": {
    "name": "ipython",
    "version": 3
   },
   "file_extension": ".py",
   "mimetype": "text/x-python",
   "name": "python",
   "nbconvert_exporter": "python",
   "pygments_lexer": "ipython3",
   "version": "3.9.12"
  }
 },
 "nbformat": 4,
 "nbformat_minor": 5
}
