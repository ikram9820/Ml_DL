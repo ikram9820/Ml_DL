{
 "cells": [
  {
   "cell_type": "code",
   "execution_count": 3,
   "id": "ace98a96",
   "metadata": {},
   "outputs": [],
   "source": [
    "import numpy as np\n",
    "import pandas as pd \n",
    "import matplotlib.pyplot as plt"
   ]
  },
  {
   "cell_type": "code",
   "execution_count": 114,
   "id": "ce1ab36c",
   "metadata": {},
   "outputs": [],
   "source": [
    "def init_params(n_units):\n",
    "    n_layers= len(n_units)\n",
    "    params= {}\n",
    "    for i in range(1, n_layers):\n",
    "        params[\"W\"+str(i)]= np.random.randn(n_units[i],n_units[i-1])*0.1 \n",
    "        params[\"b\"+str(i)]= np.zeros((n_units[i],1))\n",
    "        \n",
    "    return params\n",
    "    "
   ]
  },
  {
   "cell_type": "code",
   "execution_count": 115,
   "id": "5d320770",
   "metadata": {},
   "outputs": [],
   "source": [
    "def relu(z):\n",
    "    a= np.maximum(0,z)\n",
    "    return a"
   ]
  },
  {
   "cell_type": "code",
   "execution_count": 116,
   "id": "c7aefa6c",
   "metadata": {},
   "outputs": [],
   "source": [
    "def sigmoid(z):\n",
    "    a = 1/(1+np.exp(-z))\n",
    "    return a\n"
   ]
  },
  {
   "cell_type": "code",
   "execution_count": 117,
   "id": "886aa0d0",
   "metadata": {},
   "outputs": [],
   "source": [
    "def forward_prop(X,params):\n",
    "    A= []\n",
    "    Z= {}\n",
    "\n",
    "    A.append(X)\n",
    "    l = len(params)//2\n",
    "    for i in range(1,l):\n",
    "        Z[str(i)] = np.dot(params[\"W\"+str(i)], A[i-1]) + params['b'+str(i)]\n",
    "        A.append( relu(Z[str(i)]) )  \n",
    "    \n",
    "    Z[str(l)] = np.dot(params[\"W\"+str(l)], A[l-1]) + params['b'+str(l)]\n",
    "    A.append( sigmoid(Z[str(l)]) )\n",
    "    return A[l]"
   ]
  },
  {
   "cell_type": "code",
   "execution_count": 118,
   "id": "84eb8ea7",
   "metadata": {},
   "outputs": [],
   "source": [
    "def cost(ypred, y):\n",
    "    assert ypred.shape == y.shape , 'shape is not equal'\n",
    "    \n",
    "    cost = (-1/m) * ( np.dot(y,np.log(ypred).T) + np.dot((1-y), np.log(1-ypred).T) )\n",
    "    return np.squeeze(cost)"
   ]
  },
  {
   "cell_type": "code",
   "execution_count": null,
   "id": "9be3a784",
   "metadata": {},
   "outputs": [],
   "source": []
  },
  {
   "cell_type": "code",
   "execution_count": null,
   "id": "67a72f56",
   "metadata": {},
   "outputs": [],
   "source": [
    "def backward_prop():"
   ]
  }
 ],
 "metadata": {
  "kernelspec": {
   "display_name": "Python 3 (ipykernel)",
   "language": "python",
   "name": "python3"
  },
  "language_info": {
   "codemirror_mode": {
    "name": "ipython",
    "version": 3
   },
   "file_extension": ".py",
   "mimetype": "text/x-python",
   "name": "python",
   "nbconvert_exporter": "python",
   "pygments_lexer": "ipython3",
   "version": "3.9.12"
  }
 },
 "nbformat": 4,
 "nbformat_minor": 5
}
