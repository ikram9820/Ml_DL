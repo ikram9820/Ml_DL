{
 "cells": [
  {
   "cell_type": "code",
   "execution_count": 70,
   "id": "48f83319",
   "metadata": {},
   "outputs": [],
   "source": [
    "import numpy as np \n",
    "import tensorflow as tf \n",
    "from  tensorflow.python.framework import ops\n",
    "import pandas as pd\n",
    "import matplotlib.pyplot as plt"
   ]
  },
  {
   "cell_type": "code",
   "execution_count": 48,
   "id": "e22271d9",
   "metadata": {},
   "outputs": [],
   "source": [
    "import h5py"
   ]
  },
  {
   "cell_type": "code",
   "execution_count": 49,
   "id": "8b3929b1",
   "metadata": {},
   "outputs": [],
   "source": [
    "from tensorflow.keras.datasets import mnist"
   ]
  },
  {
   "cell_type": "code",
   "execution_count": 50,
   "id": "09d90d32",
   "metadata": {},
   "outputs": [],
   "source": [
    " (x_train, y_train), (x_test, y_test) = mnist.load_data()"
   ]
  },
  {
   "cell_type": "code",
   "execution_count": 51,
   "id": "5d1a8453",
   "metadata": {},
   "outputs": [
    {
     "data": {
      "text/plain": [
       "(60000, 28, 28)"
      ]
     },
     "execution_count": 51,
     "metadata": {},
     "output_type": "execute_result"
    }
   ],
   "source": [
    "x_train.shape"
   ]
  },
  {
   "cell_type": "code",
   "execution_count": 52,
   "id": "1ea15515",
   "metadata": {},
   "outputs": [],
   "source": [
    "x_train = x_train.reshape( (x_train.shape[0],x_train.shape[1]*x_train.shape[2]) )/255"
   ]
  },
  {
   "cell_type": "code",
   "execution_count": 53,
   "id": "65593f53",
   "metadata": {},
   "outputs": [
    {
     "data": {
      "text/plain": [
       "(60000, 784)"
      ]
     },
     "execution_count": 53,
     "metadata": {},
     "output_type": "execute_result"
    }
   ],
   "source": [
    "x_train.shape"
   ]
  },
  {
   "cell_type": "code",
   "execution_count": 54,
   "id": "7437a09d",
   "metadata": {},
   "outputs": [],
   "source": [
    "x_test = x_test.reshape( (x_test.shape[0], x_test.shape[1] * x_test.shape[2]) )/255"
   ]
  },
  {
   "cell_type": "code",
   "execution_count": 55,
   "id": "82d4ff34",
   "metadata": {},
   "outputs": [
    {
     "data": {
      "text/plain": [
       "(10000, 784)"
      ]
     },
     "execution_count": 55,
     "metadata": {},
     "output_type": "execute_result"
    }
   ],
   "source": [
    "x_test.shape"
   ]
  },
  {
   "cell_type": "code",
   "execution_count": 56,
   "id": "e9b3eb1f",
   "metadata": {},
   "outputs": [],
   "source": [
    "y_train = y_train.reshape(y_train.shape[0],1)"
   ]
  },
  {
   "cell_type": "code",
   "execution_count": 57,
   "id": "646fdcf2",
   "metadata": {},
   "outputs": [],
   "source": [
    "def create_placeholder(n_x, n_y):\n",
    "    X = tf.placeholder(shape = [n_x,None], dtype = tf.float32, name = 'X')\n",
    "    y = tf.placeholder(shape = [n_y,None], dtype = tf.float32, name = 'y')\n",
    "    return X,y"
   ]
  },
  {
   "cell_type": "code",
   "execution_count": 58,
   "id": "6ad224f0",
   "metadata": {},
   "outputs": [
    {
     "data": {
      "text/plain": [
       "'2.10.0'"
      ]
     },
     "execution_count": 58,
     "metadata": {},
     "output_type": "execute_result"
    }
   ],
   "source": [
    "tf.__version__"
   ]
  },
  {
   "cell_type": "code",
   "execution_count": 61,
   "id": "9c16c7c4",
   "metadata": {},
   "outputs": [
    {
     "ename": "AttributeError",
     "evalue": "module 'tensorflow' has no attribute 'placeholder'",
     "output_type": "error",
     "traceback": [
      "\u001b[0;31m---------------------------------------------------------------------------\u001b[0m",
      "\u001b[0;31mAttributeError\u001b[0m                            Traceback (most recent call last)",
      "Input \u001b[0;32mIn [61]\u001b[0m, in \u001b[0;36m<cell line: 1>\u001b[0;34m()\u001b[0m\n\u001b[0;32m----> 1\u001b[0m X , y \u001b[38;5;241m=\u001b[39m \u001b[43mcreate_placeholder\u001b[49m\u001b[43m(\u001b[49m\u001b[43m(\u001b[49m\u001b[38;5;241;43m28\u001b[39;49m\u001b[38;5;241;43m*\u001b[39;49m\u001b[38;5;241;43m28\u001b[39;49m\u001b[43m)\u001b[49m\u001b[43m,\u001b[49m\u001b[38;5;241;43m1\u001b[39;49m\u001b[43m)\u001b[49m\n",
      "Input \u001b[0;32mIn [57]\u001b[0m, in \u001b[0;36mcreate_placeholder\u001b[0;34m(n_x, n_y)\u001b[0m\n\u001b[1;32m      1\u001b[0m \u001b[38;5;28;01mdef\u001b[39;00m \u001b[38;5;21mcreate_placeholder\u001b[39m(n_x, n_y):\n\u001b[0;32m----> 2\u001b[0m     X \u001b[38;5;241m=\u001b[39m \u001b[43mtf\u001b[49m\u001b[38;5;241;43m.\u001b[39;49m\u001b[43mplaceholder\u001b[49m(shape \u001b[38;5;241m=\u001b[39m [n_x,\u001b[38;5;28;01mNone\u001b[39;00m], dtype \u001b[38;5;241m=\u001b[39m tf\u001b[38;5;241m.\u001b[39mfloat32, name \u001b[38;5;241m=\u001b[39m \u001b[38;5;124m'\u001b[39m\u001b[38;5;124mX\u001b[39m\u001b[38;5;124m'\u001b[39m)\n\u001b[1;32m      3\u001b[0m     y \u001b[38;5;241m=\u001b[39m tf\u001b[38;5;241m.\u001b[39mplaceholder(shape \u001b[38;5;241m=\u001b[39m [n_y,\u001b[38;5;28;01mNone\u001b[39;00m], dtype \u001b[38;5;241m=\u001b[39m tf\u001b[38;5;241m.\u001b[39mfloat32, name \u001b[38;5;241m=\u001b[39m \u001b[38;5;124m'\u001b[39m\u001b[38;5;124my\u001b[39m\u001b[38;5;124m'\u001b[39m)\n\u001b[1;32m      4\u001b[0m     \u001b[38;5;28;01mreturn\u001b[39;00m X,y\n",
      "\u001b[0;31mAttributeError\u001b[0m: module 'tensorflow' has no attribute 'placeholder'"
     ]
    }
   ],
   "source": [
    "X , y = create_placeholder((28*28),1)"
   ]
  },
  {
   "cell_type": "code",
   "execution_count": 60,
   "id": "406ecde7",
   "metadata": {},
   "outputs": [],
   "source": [
    "def init_params(n_units):\n",
    "    tf.set_random_seed(1)\n",
    "    l = len(n_units)\n",
    "    params = {}\n",
    "    for i in (1,l):\n",
    "        params[\"w\"+str(i)] = tf.get_variable(\"w\"+str(i),[n_units[i] , n_units[i-1]],\\\n",
    "                                             initializer= tf.contrib.layers.xavier_inittializer(seed=1))\n",
    "        params[\"b\"+str(i)] = tf.get_variable(\"b\"+str(i),[n_units[i] , 1],initializer= tf.zeros_inittializer())\n",
    "        \n",
    "    return params\n",
    "        "
   ]
  },
  {
   "cell_type": "code",
   "execution_count": 64,
   "id": "b3fa39ca",
   "metadata": {},
   "outputs": [
    {
     "ename": "AttributeError",
     "evalue": "module 'tensorflow' has no attribute 'reset_defautl_graph'",
     "output_type": "error",
     "traceback": [
      "\u001b[0;31m---------------------------------------------------------------------------\u001b[0m",
      "\u001b[0;31mAttributeError\u001b[0m                            Traceback (most recent call last)",
      "Input \u001b[0;32mIn [64]\u001b[0m, in \u001b[0;36m<cell line: 1>\u001b[0;34m()\u001b[0m\n\u001b[0;32m----> 1\u001b[0m \u001b[43mtf\u001b[49m\u001b[38;5;241;43m.\u001b[39;49m\u001b[43mreset_defautl_graph\u001b[49m()\n\u001b[1;32m      2\u001b[0m \u001b[38;5;28;01mwith\u001b[39;00m tf\u001b[38;5;241m.\u001b[39mSession() \u001b[38;5;28;01mas\u001b[39;00m sess:\n\u001b[1;32m      3\u001b[0m     init_params([\u001b[38;5;241m21\u001b[39m,\u001b[38;5;241m43\u001b[39m,\u001b[38;5;241m53\u001b[39m])\n",
      "\u001b[0;31mAttributeError\u001b[0m: module 'tensorflow' has no attribute 'reset_defautl_graph'"
     ]
    }
   ],
   "source": [
    "tf.reset_defautl_graph()\n",
    "with tf.Session() as sess:\n",
    "    init_params([21,43,53])"
   ]
  },
  {
   "cell_type": "code",
   "execution_count": null,
   "id": "d9928077",
   "metadata": {},
   "outputs": [],
   "source": [
    "def forward_prop(X, params):\n",
    "    l = len(params)/2\n",
    "    A={}\n",
    "    Z={}\n",
    "    A[0]= X\n",
    "    for i in range(1,l):\n",
    "        w = params.get(\"w\"+str(i))\n",
    "        b = params.get(\"b\"+str(i))\n",
    "        Z[i] = tf.add(tf.matmul (w,A[i-1]) ,b)\n",
    "        A[i] = tf.nn.relu(Z[i])\n",
    "        \n",
    "    w = params.get(\"w\"+str(l))\n",
    "    b = params.get(\"b\"+str(l))\n",
    "    Z[l] = tf.add(tf.matmul (w,A[l-1]) ,b)\n",
    "    return Z[l]\n",
    "        \n",
    "        "
   ]
  },
  {
   "cell_type": "code",
   "execution_count": 68,
   "id": "c941a092",
   "metadata": {},
   "outputs": [],
   "source": [
    "def cost(Zl, y):\n",
    "    logits = tf.transpose(Zl)\n",
    "    labels = tf.transpose(y)\n",
    "    cost = tf.reduce_mean(tf.nn.softmax_cross_entropy_with_logits(labels= labels, logits= logits))\n",
    "    return cost"
   ]
  },
  {
   "cell_type": "code",
   "execution_count": null,
   "id": "70a30a1c",
   "metadata": {},
   "outputs": [],
   "source": [
    "def model(x, y, x_test, y_test, learning_rate= 0.0001, epochs=1500, batch_size= 32, print_cost=True ):\n",
    "    ops.reset_default_graph()\n",
    "    tf.set_random_seed(1)\n",
    "    seed = 3\n",
    "    (n_x , m) = x.shape\n",
    "    n_y = y.shape[0]\n",
    "    costs = []\n",
    "    \n",
    "    X , Y = create_placeholder(n_x,n_y)\n",
    "    params = init_params([32,32,12,4,1])\n",
    "    Zl = forward_prop(X, params)\n",
    "    cost = cost(Zl, Y)\n",
    "    optimizer = tf.train.AdamOptimizer(learning_rate= learning_rate).minimize(cost)\n",
    "    init = tf.global_variable_initializer()\n",
    "    with tf.Session() as  sess:\n",
    "        sess.run(init)\n",
    "        \n",
    "        for epoch in range(epochs):\n",
    "            epoch_cost = 0\n",
    "            num_batches = int (m /batch_size)\n",
    "            seed +=1\n",
    "            batches = random_mini_bathces(x, y, batch_size,seed)\n",
    "            \n",
    "            for batch in batches:\n",
    "                batch_x, batch_y = batch\n",
    "                _,batch_cost = sess.run([optimizer,cost], feed_dict={X:batch_x,Y:batch_y})\n",
    "                \n",
    "                epoch_cost+= batch_cost / num_batches\n",
    "            \n",
    "            if print_cost and epoch % 100 == 0 :\n",
    "                print(f'cost after epoch {epoch} : {epoch_cost}')\n",
    "            if print_cost and epoch % 5 == 0 :\n",
    "                costs.append(epoch_cost)\n",
    "        \n",
    "        plt.plot(np.squeeze(costs))\n",
    "        plt.ylabel('cost')\n",
    "        plt.xlabel('iter per fives')\n",
    "        plt.show()\n",
    "        \n",
    "        params = sess.run(params)\n",
    "        correct_pred = tf.equal(tf.argmax(Zl),tf.argmax(Y))\n",
    "        acc = tf.reduce_mean(tf.cast(correct_pred,'float'))\n",
    "        \n",
    "        print(f\"train acc :\",acc.eval({X:x,Y:y}))\n",
    "        print(f\"test acc :\",acc.eval({X:x_test,Y:y_test}))\n",
    "        \n",
    "        return params\n",
    "\n",
    "                "
   ]
  },
  {
   "cell_type": "code",
   "execution_count": null,
   "id": "5b9c70be",
   "metadata": {},
   "outputs": [],
   "source": []
  },
  {
   "cell_type": "code",
   "execution_count": null,
   "id": "da6446dd",
   "metadata": {},
   "outputs": [],
   "source": []
  }
 ],
 "metadata": {
  "kernelspec": {
   "display_name": "Python 3 (ipykernel)",
   "language": "python",
   "name": "python3"
  },
  "language_info": {
   "codemirror_mode": {
    "name": "ipython",
    "version": 3
   },
   "file_extension": ".py",
   "mimetype": "text/x-python",
   "name": "python",
   "nbconvert_exporter": "python",
   "pygments_lexer": "ipython3",
   "version": "3.9.12"
  }
 },
 "nbformat": 4,
 "nbformat_minor": 5
}
