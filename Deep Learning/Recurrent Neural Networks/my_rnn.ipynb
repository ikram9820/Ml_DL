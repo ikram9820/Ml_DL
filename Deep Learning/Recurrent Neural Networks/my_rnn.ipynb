{
 "cells": [
  {
   "cell_type": "code",
   "execution_count": 1,
   "id": "b8542c3d",
   "metadata": {},
   "outputs": [],
   "source": [
    "import tensorflow as tf\n",
    "import numpy as np\n",
    "import pandas as pd\n"
   ]
  },
  {
   "cell_type": "code",
   "execution_count": 2,
   "id": "d9019a5f",
   "metadata": {},
   "outputs": [],
   "source": [
    "train_df = pd.read_csv('Google_Stock_Price_Train.csv')\n",
    "test_df = pd.read_csv('Google_Stock_Price_Test.csv')"
   ]
  },
  {
   "cell_type": "code",
   "execution_count": 5,
   "id": "baabfe76",
   "metadata": {},
   "outputs": [
    {
     "data": {
      "text/html": [
       "<div>\n",
       "<style scoped>\n",
       "    .dataframe tbody tr th:only-of-type {\n",
       "        vertical-align: middle;\n",
       "    }\n",
       "\n",
       "    .dataframe tbody tr th {\n",
       "        vertical-align: top;\n",
       "    }\n",
       "\n",
       "    .dataframe thead th {\n",
       "        text-align: right;\n",
       "    }\n",
       "</style>\n",
       "<table border=\"1\" class=\"dataframe\">\n",
       "  <thead>\n",
       "    <tr style=\"text-align: right;\">\n",
       "      <th></th>\n",
       "      <th>Date</th>\n",
       "      <th>Open</th>\n",
       "      <th>High</th>\n",
       "      <th>Low</th>\n",
       "      <th>Close</th>\n",
       "      <th>Volume</th>\n",
       "    </tr>\n",
       "  </thead>\n",
       "  <tbody>\n",
       "    <tr>\n",
       "      <th>0</th>\n",
       "      <td>1/3/2012</td>\n",
       "      <td>325.25</td>\n",
       "      <td>332.83</td>\n",
       "      <td>324.97</td>\n",
       "      <td>663.59</td>\n",
       "      <td>7,380,500</td>\n",
       "    </tr>\n",
       "    <tr>\n",
       "      <th>1</th>\n",
       "      <td>1/4/2012</td>\n",
       "      <td>331.27</td>\n",
       "      <td>333.87</td>\n",
       "      <td>329.08</td>\n",
       "      <td>666.45</td>\n",
       "      <td>5,749,400</td>\n",
       "    </tr>\n",
       "  </tbody>\n",
       "</table>\n",
       "</div>"
      ],
      "text/plain": [
       "       Date    Open    High     Low   Close     Volume\n",
       "0  1/3/2012  325.25  332.83  324.97  663.59  7,380,500\n",
       "1  1/4/2012  331.27  333.87  329.08  666.45  5,749,400"
      ]
     },
     "execution_count": 5,
     "metadata": {},
     "output_type": "execute_result"
    }
   ],
   "source": [
    "train_df.head(2)"
   ]
  },
  {
   "cell_type": "code",
   "execution_count": 18,
   "id": "183b116f",
   "metadata": {},
   "outputs": [
    {
     "name": "stdout",
     "output_type": "stream",
     "text": [
      "<class 'pandas.core.frame.DataFrame'>\n",
      "RangeIndex: 1258 entries, 0 to 1257\n",
      "Data columns (total 6 columns):\n",
      " #   Column  Non-Null Count  Dtype  \n",
      "---  ------  --------------  -----  \n",
      " 0   Date    1258 non-null   object \n",
      " 1   Open    1258 non-null   float64\n",
      " 2   High    1258 non-null   float64\n",
      " 3   Low     1258 non-null   float64\n",
      " 4   Close   1258 non-null   object \n",
      " 5   Volume  1258 non-null   object \n",
      "dtypes: float64(3), object(3)\n",
      "memory usage: 59.1+ KB\n"
     ]
    }
   ],
   "source": [
    "train_df.info()"
   ]
  },
  {
   "cell_type": "code",
   "execution_count": 19,
   "id": "a8a5b0ea",
   "metadata": {},
   "outputs": [],
   "source": [
    "train= train_df.iloc[:,1:2].values"
   ]
  },
  {
   "cell_type": "code",
   "execution_count": 29,
   "id": "26a6235e",
   "metadata": {},
   "outputs": [],
   "source": [
    "from sklearn.preprocessing import MinMaxScaler\n",
    "sc= MinMaxScaler()\n",
    "train_sc= sc.fit_transform(train)"
   ]
  },
  {
   "cell_type": "code",
   "execution_count": 33,
   "id": "8771a18c",
   "metadata": {},
   "outputs": [],
   "source": [
    "x= []\n",
    "y= []\n",
    "for i in range(60,1258):\n",
    "    x.append(train_sc[i-60:i,0])\n",
    "    y.append(train_sc[i,0])\n",
    "    \n",
    "x= np.array(x)\n",
    "y= np.array(y)\n"
   ]
  },
  {
   "cell_type": "code",
   "execution_count": 34,
   "id": "e92c55e4",
   "metadata": {},
   "outputs": [
    {
     "data": {
      "text/plain": [
       "(1198, 60)"
      ]
     },
     "execution_count": 34,
     "metadata": {},
     "output_type": "execute_result"
    }
   ],
   "source": [
    "x.shape"
   ]
  },
  {
   "cell_type": "code",
   "execution_count": 36,
   "id": "fb1499a9",
   "metadata": {},
   "outputs": [],
   "source": [
    "x= x.reshape(x.shape[0],x.shape[1],1)"
   ]
  },
  {
   "cell_type": "code",
   "execution_count": 44,
   "id": "31b2e0fc",
   "metadata": {},
   "outputs": [
    {
     "data": {
      "text/plain": [
       "array([[0.08627874],\n",
       "       [0.08471612],\n",
       "       [0.07454052],\n",
       "       ...,\n",
       "       [0.95725128],\n",
       "       [0.93796041],\n",
       "       [0.93688146]])"
      ]
     },
     "execution_count": 44,
     "metadata": {},
     "output_type": "execute_result"
    }
   ],
   "source": [
    "y.reshape(1198,1)"
   ]
  },
  {
   "cell_type": "code",
   "execution_count": 40,
   "id": "363332e7",
   "metadata": {},
   "outputs": [],
   "source": [
    "from keras import models\n",
    "from keras import layers"
   ]
  },
  {
   "cell_type": "code",
   "execution_count": 41,
   "id": "92569909",
   "metadata": {},
   "outputs": [],
   "source": [
    "rnn= models.Sequential([\n",
    "    layers.LSTM(units= 60, return_sequences= True, input_shape= (x.shape[1],x.shape[2])),\n",
    "    layers.Dropout(0.2),\n",
    "    layers.LSTM(units= 60, return_sequences= True),\n",
    "    layers.Dropout(0.2),\n",
    "    layers.LSTM(units= 60, return_sequences= True),\n",
    "    layers.Dropout(0.2),\n",
    "    layers.LSTM(units= 60),\n",
    "    layers.Dropout(0.2),\n",
    "    layers.Dense(1)\n",
    "])"
   ]
  },
  {
   "cell_type": "code",
   "execution_count": 42,
   "id": "5d156d5c",
   "metadata": {},
   "outputs": [],
   "source": [
    "rnn.compile(optimizer='adam',loss='mean_squared_error',metrics=['accuracy'])"
   ]
  },
  {
   "cell_type": "code",
   "execution_count": 45,
   "id": "4a7251d3",
   "metadata": {},
   "outputs": [
    {
     "name": "stdout",
     "output_type": "stream",
     "text": [
      "Epoch 1/100\n",
      "30/30 [==============================] - 35s 364ms/step - loss: 0.0299 - accuracy: 0.0010 - val_loss: 0.0044 - val_accuracy: 0.0042\n",
      "Epoch 2/100\n",
      "30/30 [==============================] - 8s 271ms/step - loss: 0.0056 - accuracy: 0.0010 - val_loss: 0.0084 - val_accuracy: 0.0042\n",
      "Epoch 3/100\n",
      "30/30 [==============================] - 6s 214ms/step - loss: 0.0042 - accuracy: 0.0010 - val_loss: 0.0050 - val_accuracy: 0.0042\n",
      "Epoch 4/100\n",
      "30/30 [==============================] - 7s 222ms/step - loss: 0.0040 - accuracy: 0.0010 - val_loss: 0.0022 - val_accuracy: 0.0042\n",
      "Epoch 5/100\n",
      "30/30 [==============================] - 7s 229ms/step - loss: 0.0037 - accuracy: 0.0010 - val_loss: 0.0028 - val_accuracy: 0.0042\n",
      "Epoch 6/100\n",
      "30/30 [==============================] - 7s 229ms/step - loss: 0.0034 - accuracy: 0.0010 - val_loss: 0.0066 - val_accuracy: 0.0042\n",
      "Epoch 7/100\n",
      "30/30 [==============================] - 7s 231ms/step - loss: 0.0033 - accuracy: 0.0010 - val_loss: 0.0054 - val_accuracy: 0.0042\n",
      "Epoch 8/100\n",
      "30/30 [==============================] - 8s 257ms/step - loss: 0.0037 - accuracy: 0.0010 - val_loss: 0.0022 - val_accuracy: 0.0042\n",
      "Epoch 9/100\n",
      "30/30 [==============================] - 7s 230ms/step - loss: 0.0031 - accuracy: 0.0010 - val_loss: 0.0021 - val_accuracy: 0.0042\n",
      "Epoch 10/100\n",
      "30/30 [==============================] - 7s 227ms/step - loss: 0.0029 - accuracy: 0.0010 - val_loss: 0.0018 - val_accuracy: 0.0042\n",
      "Epoch 11/100\n",
      "30/30 [==============================] - 7s 236ms/step - loss: 0.0027 - accuracy: 0.0010 - val_loss: 0.0026 - val_accuracy: 0.0042\n",
      "Epoch 12/100\n",
      "30/30 [==============================] - 7s 224ms/step - loss: 0.0028 - accuracy: 0.0010 - val_loss: 0.0020 - val_accuracy: 0.0042\n",
      "Epoch 13/100\n",
      "30/30 [==============================] - 6s 207ms/step - loss: 0.0025 - accuracy: 0.0010 - val_loss: 0.0038 - val_accuracy: 0.0042\n",
      "Epoch 14/100\n",
      "30/30 [==============================] - 6s 209ms/step - loss: 0.0026 - accuracy: 0.0010 - val_loss: 0.0026 - val_accuracy: 0.0042\n",
      "Epoch 15/100\n",
      "30/30 [==============================] - 7s 237ms/step - loss: 0.0029 - accuracy: 0.0010 - val_loss: 0.0015 - val_accuracy: 0.0042\n",
      "Epoch 16/100\n",
      "30/30 [==============================] - 8s 256ms/step - loss: 0.0029 - accuracy: 0.0010 - val_loss: 0.0020 - val_accuracy: 0.0042\n",
      "Epoch 17/100\n",
      "30/30 [==============================] - 6s 211ms/step - loss: 0.0025 - accuracy: 0.0010 - val_loss: 0.0022 - val_accuracy: 0.0042\n",
      "Epoch 18/100\n",
      "30/30 [==============================] - 6s 210ms/step - loss: 0.0028 - accuracy: 0.0010 - val_loss: 0.0015 - val_accuracy: 0.0042\n",
      "Epoch 19/100\n",
      "30/30 [==============================] - 6s 215ms/step - loss: 0.0026 - accuracy: 0.0010 - val_loss: 0.0021 - val_accuracy: 0.0042\n",
      "Epoch 20/100\n",
      "30/30 [==============================] - 6s 215ms/step - loss: 0.0029 - accuracy: 0.0010 - val_loss: 0.0019 - val_accuracy: 0.0042\n",
      "Epoch 21/100\n",
      "30/30 [==============================] - 6s 212ms/step - loss: 0.0028 - accuracy: 0.0010 - val_loss: 0.0035 - val_accuracy: 0.0042\n",
      "Epoch 22/100\n",
      "30/30 [==============================] - 7s 229ms/step - loss: 0.0026 - accuracy: 0.0010 - val_loss: 0.0020 - val_accuracy: 0.0042\n",
      "Epoch 23/100\n",
      "30/30 [==============================] - 8s 259ms/step - loss: 0.0021 - accuracy: 0.0010 - val_loss: 0.0027 - val_accuracy: 0.0042\n",
      "Epoch 24/100\n",
      "30/30 [==============================] - 7s 235ms/step - loss: 0.0022 - accuracy: 0.0010 - val_loss: 0.0034 - val_accuracy: 0.0042\n",
      "Epoch 25/100\n",
      "30/30 [==============================] - 7s 227ms/step - loss: 0.0025 - accuracy: 0.0010 - val_loss: 0.0013 - val_accuracy: 0.0042\n",
      "Epoch 26/100\n",
      "30/30 [==============================] - 7s 235ms/step - loss: 0.0024 - accuracy: 0.0010 - val_loss: 0.0016 - val_accuracy: 0.0042\n",
      "Epoch 27/100\n",
      "30/30 [==============================] - 7s 226ms/step - loss: 0.0022 - accuracy: 0.0010 - val_loss: 0.0034 - val_accuracy: 0.0042\n",
      "Epoch 28/100\n",
      "30/30 [==============================] - 6s 213ms/step - loss: 0.0025 - accuracy: 0.0010 - val_loss: 0.0047 - val_accuracy: 0.0042\n",
      "Epoch 29/100\n",
      "30/30 [==============================] - 7s 227ms/step - loss: 0.0022 - accuracy: 0.0010 - val_loss: 0.0013 - val_accuracy: 0.0042\n",
      "Epoch 30/100\n",
      "30/30 [==============================] - 6s 207ms/step - loss: 0.0025 - accuracy: 0.0010 - val_loss: 0.0027 - val_accuracy: 0.0042\n",
      "Epoch 31/100\n",
      "30/30 [==============================] - 7s 220ms/step - loss: 0.0024 - accuracy: 0.0010 - val_loss: 0.0014 - val_accuracy: 0.0042\n",
      "Epoch 32/100\n",
      "30/30 [==============================] - 7s 237ms/step - loss: 0.0021 - accuracy: 0.0010 - val_loss: 0.0026 - val_accuracy: 0.0042\n",
      "Epoch 33/100\n",
      "30/30 [==============================] - 7s 228ms/step - loss: 0.0021 - accuracy: 0.0010 - val_loss: 0.0014 - val_accuracy: 0.0042\n",
      "Epoch 34/100\n",
      "30/30 [==============================] - 7s 218ms/step - loss: 0.0022 - accuracy: 0.0010 - val_loss: 0.0025 - val_accuracy: 0.0042\n",
      "Epoch 35/100\n",
      "30/30 [==============================] - 6s 214ms/step - loss: 0.0020 - accuracy: 0.0010 - val_loss: 0.0050 - val_accuracy: 0.0042\n",
      "Epoch 36/100\n",
      "30/30 [==============================] - 7s 241ms/step - loss: 0.0019 - accuracy: 0.0010 - val_loss: 0.0028 - val_accuracy: 0.0042\n",
      "Epoch 37/100\n",
      "30/30 [==============================] - 7s 230ms/step - loss: 0.0019 - accuracy: 0.0010 - val_loss: 0.0013 - val_accuracy: 0.0042\n",
      "Epoch 38/100\n",
      "30/30 [==============================] - 7s 218ms/step - loss: 0.0018 - accuracy: 0.0010 - val_loss: 0.0020 - val_accuracy: 0.0042\n",
      "Epoch 39/100\n",
      "30/30 [==============================] - 6s 216ms/step - loss: 0.0022 - accuracy: 0.0010 - val_loss: 0.0012 - val_accuracy: 0.0042\n",
      "Epoch 40/100\n",
      "30/30 [==============================] - 7s 222ms/step - loss: 0.0018 - accuracy: 0.0010 - val_loss: 0.0038 - val_accuracy: 0.0042\n",
      "Epoch 41/100\n",
      "30/30 [==============================] - 6s 214ms/step - loss: 0.0020 - accuracy: 0.0010 - val_loss: 0.0019 - val_accuracy: 0.0042\n",
      "Epoch 42/100\n",
      "30/30 [==============================] - 7s 223ms/step - loss: 0.0021 - accuracy: 0.0010 - val_loss: 0.0039 - val_accuracy: 0.0042\n",
      "Epoch 43/100\n",
      "30/30 [==============================] - 7s 251ms/step - loss: 0.0018 - accuracy: 0.0010 - val_loss: 0.0012 - val_accuracy: 0.0042\n",
      "Epoch 44/100\n",
      "30/30 [==============================] - 6s 216ms/step - loss: 0.0018 - accuracy: 0.0010 - val_loss: 0.0012 - val_accuracy: 0.0042\n",
      "Epoch 45/100\n",
      "30/30 [==============================] - 7s 226ms/step - loss: 0.0017 - accuracy: 0.0010 - val_loss: 0.0011 - val_accuracy: 0.0042\n",
      "Epoch 46/100\n",
      "30/30 [==============================] - 7s 221ms/step - loss: 0.0017 - accuracy: 0.0010 - val_loss: 0.0012 - val_accuracy: 0.0042\n",
      "Epoch 47/100\n",
      "30/30 [==============================] - 7s 249ms/step - loss: 0.0018 - accuracy: 0.0010 - val_loss: 0.0012 - val_accuracy: 0.0042\n",
      "Epoch 48/100\n",
      "30/30 [==============================] - 7s 219ms/step - loss: 0.0018 - accuracy: 0.0010 - val_loss: 0.0011 - val_accuracy: 0.0042\n",
      "Epoch 49/100\n",
      "30/30 [==============================] - 7s 217ms/step - loss: 0.0019 - accuracy: 0.0010 - val_loss: 0.0024 - val_accuracy: 0.0042\n",
      "Epoch 50/100\n",
      "30/30 [==============================] - 6s 215ms/step - loss: 0.0018 - accuracy: 0.0010 - val_loss: 0.0018 - val_accuracy: 0.0042\n",
      "Epoch 51/100\n",
      "30/30 [==============================] - 7s 218ms/step - loss: 0.0016 - accuracy: 0.0010 - val_loss: 0.0011 - val_accuracy: 0.0042\n",
      "Epoch 52/100\n",
      "30/30 [==============================] - 7s 217ms/step - loss: 0.0016 - accuracy: 0.0010 - val_loss: 0.0012 - val_accuracy: 0.0042\n",
      "Epoch 53/100\n",
      "30/30 [==============================] - 6s 214ms/step - loss: 0.0016 - accuracy: 0.0010 - val_loss: 0.0014 - val_accuracy: 0.0042\n",
      "Epoch 54/100\n",
      "30/30 [==============================] - 7s 227ms/step - loss: 0.0019 - accuracy: 0.0010 - val_loss: 0.0029 - val_accuracy: 0.0042\n",
      "Epoch 55/100\n",
      "30/30 [==============================] - 8s 259ms/step - loss: 0.0017 - accuracy: 0.0010 - val_loss: 0.0011 - val_accuracy: 0.0042\n",
      "Epoch 56/100\n",
      "30/30 [==============================] - 7s 222ms/step - loss: 0.0015 - accuracy: 0.0010 - val_loss: 0.0014 - val_accuracy: 0.0042\n",
      "Epoch 57/100\n",
      "30/30 [==============================] - 7s 220ms/step - loss: 0.0015 - accuracy: 0.0010 - val_loss: 0.0011 - val_accuracy: 0.0042\n"
     ]
    },
    {
     "name": "stdout",
     "output_type": "stream",
     "text": [
      "Epoch 58/100\n",
      "30/30 [==============================] - 6s 213ms/step - loss: 0.0015 - accuracy: 0.0010 - val_loss: 9.6316e-04 - val_accuracy: 0.0042\n",
      "Epoch 59/100\n",
      "30/30 [==============================] - 6s 214ms/step - loss: 0.0015 - accuracy: 0.0010 - val_loss: 0.0032 - val_accuracy: 0.0042\n",
      "Epoch 60/100\n",
      "30/30 [==============================] - 7s 219ms/step - loss: 0.0016 - accuracy: 0.0010 - val_loss: 0.0011 - val_accuracy: 0.0042\n",
      "Epoch 61/100\n",
      "30/30 [==============================] - 7s 221ms/step - loss: 0.0014 - accuracy: 0.0010 - val_loss: 9.4950e-04 - val_accuracy: 0.0042\n",
      "Epoch 62/100\n",
      "30/30 [==============================] - 6s 216ms/step - loss: 0.0015 - accuracy: 0.0010 - val_loss: 9.2130e-04 - val_accuracy: 0.0042\n",
      "Epoch 63/100\n",
      "30/30 [==============================] - 7s 220ms/step - loss: 0.0017 - accuracy: 0.0010 - val_loss: 0.0038 - val_accuracy: 0.0042\n",
      "Epoch 64/100\n",
      "30/30 [==============================] - 7s 220ms/step - loss: 0.0014 - accuracy: 0.0010 - val_loss: 8.7103e-04 - val_accuracy: 0.0042\n",
      "Epoch 65/100\n",
      "30/30 [==============================] - 7s 217ms/step - loss: 0.0015 - accuracy: 0.0010 - val_loss: 8.5878e-04 - val_accuracy: 0.0042\n",
      "Epoch 66/100\n",
      "30/30 [==============================] - 7s 222ms/step - loss: 0.0014 - accuracy: 0.0010 - val_loss: 8.4330e-04 - val_accuracy: 0.0042\n",
      "Epoch 67/100\n",
      "30/30 [==============================] - 7s 234ms/step - loss: 0.0014 - accuracy: 0.0010 - val_loss: 0.0011 - val_accuracy: 0.0042\n",
      "Epoch 68/100\n",
      "30/30 [==============================] - 7s 223ms/step - loss: 0.0015 - accuracy: 0.0010 - val_loss: 0.0011 - val_accuracy: 0.0042\n",
      "Epoch 69/100\n",
      "30/30 [==============================] - 6s 215ms/step - loss: 0.0017 - accuracy: 0.0010 - val_loss: 0.0024 - val_accuracy: 0.0042\n",
      "Epoch 70/100\n",
      "30/30 [==============================] - 7s 230ms/step - loss: 0.0013 - accuracy: 0.0010 - val_loss: 0.0012 - val_accuracy: 0.0042\n",
      "Epoch 71/100\n",
      "30/30 [==============================] - 6s 216ms/step - loss: 0.0013 - accuracy: 0.0010 - val_loss: 8.8058e-04 - val_accuracy: 0.0042\n",
      "Epoch 72/100\n",
      "30/30 [==============================] - 6s 212ms/step - loss: 0.0014 - accuracy: 0.0010 - val_loss: 0.0013 - val_accuracy: 0.0042\n",
      "Epoch 73/100\n",
      "30/30 [==============================] - 6s 211ms/step - loss: 0.0014 - accuracy: 0.0010 - val_loss: 8.8275e-04 - val_accuracy: 0.0042\n",
      "Epoch 74/100\n",
      "30/30 [==============================] - 6s 211ms/step - loss: 0.0013 - accuracy: 0.0010 - val_loss: 0.0012 - val_accuracy: 0.0042\n",
      "Epoch 75/100\n",
      "30/30 [==============================] - 6s 208ms/step - loss: 0.0011 - accuracy: 0.0010 - val_loss: 0.0013 - val_accuracy: 0.0042\n",
      "Epoch 76/100\n",
      "30/30 [==============================] - 6s 208ms/step - loss: 0.0013 - accuracy: 0.0010 - val_loss: 0.0017 - val_accuracy: 0.0042\n",
      "Epoch 77/100\n",
      "30/30 [==============================] - 6s 208ms/step - loss: 0.0015 - accuracy: 0.0010 - val_loss: 0.0014 - val_accuracy: 0.0042\n",
      "Epoch 78/100\n",
      "30/30 [==============================] - 6s 211ms/step - loss: 0.0014 - accuracy: 0.0010 - val_loss: 7.8395e-04 - val_accuracy: 0.0042\n",
      "Epoch 79/100\n",
      "30/30 [==============================] - 8s 252ms/step - loss: 0.0013 - accuracy: 0.0010 - val_loss: 9.5707e-04 - val_accuracy: 0.0042\n",
      "Epoch 80/100\n",
      "30/30 [==============================] - 6s 212ms/step - loss: 0.0012 - accuracy: 0.0010 - val_loss: 7.6267e-04 - val_accuracy: 0.0042\n",
      "Epoch 81/100\n",
      "30/30 [==============================] - 6s 214ms/step - loss: 0.0012 - accuracy: 0.0010 - val_loss: 0.0011 - val_accuracy: 0.0042\n",
      "Epoch 82/100\n",
      "30/30 [==============================] - 7s 217ms/step - loss: 0.0012 - accuracy: 0.0010 - val_loss: 7.8929e-04 - val_accuracy: 0.0042\n",
      "Epoch 83/100\n",
      "30/30 [==============================] - 7s 225ms/step - loss: 0.0012 - accuracy: 0.0010 - val_loss: 7.6963e-04 - val_accuracy: 0.0042\n",
      "Epoch 84/100\n",
      "30/30 [==============================] - 6s 212ms/step - loss: 0.0013 - accuracy: 0.0010 - val_loss: 7.4801e-04 - val_accuracy: 0.0042\n",
      "Epoch 85/100\n",
      "30/30 [==============================] - 6s 211ms/step - loss: 0.0012 - accuracy: 0.0010 - val_loss: 6.8084e-04 - val_accuracy: 0.0042\n",
      "Epoch 86/100\n",
      "30/30 [==============================] - 6s 211ms/step - loss: 0.0012 - accuracy: 0.0010 - val_loss: 9.5608e-04 - val_accuracy: 0.0042\n",
      "Epoch 87/100\n",
      "30/30 [==============================] - 6s 212ms/step - loss: 0.0013 - accuracy: 0.0010 - val_loss: 0.0022 - val_accuracy: 0.0042\n",
      "Epoch 88/100\n",
      "30/30 [==============================] - 6s 213ms/step - loss: 0.0013 - accuracy: 0.0010 - val_loss: 0.0020 - val_accuracy: 0.0042\n",
      "Epoch 89/100\n",
      "30/30 [==============================] - 6s 214ms/step - loss: 0.0013 - accuracy: 0.0010 - val_loss: 0.0010 - val_accuracy: 0.0042\n",
      "Epoch 90/100\n",
      "30/30 [==============================] - 6s 212ms/step - loss: 0.0011 - accuracy: 0.0010 - val_loss: 0.0010 - val_accuracy: 0.0042\n",
      "Epoch 91/100\n",
      "30/30 [==============================] - 6s 211ms/step - loss: 0.0011 - accuracy: 0.0010 - val_loss: 0.0028 - val_accuracy: 0.0042\n",
      "Epoch 92/100\n",
      "30/30 [==============================] - 6s 215ms/step - loss: 0.0014 - accuracy: 0.0010 - val_loss: 6.5054e-04 - val_accuracy: 0.0042\n",
      "Epoch 93/100\n",
      "30/30 [==============================] - 6s 214ms/step - loss: 0.0010 - accuracy: 0.0010 - val_loss: 9.5774e-04 - val_accuracy: 0.0042\n",
      "Epoch 94/100\n",
      "30/30 [==============================] - 6s 213ms/step - loss: 0.0010 - accuracy: 0.0010 - val_loss: 6.7182e-04 - val_accuracy: 0.0042\n",
      "Epoch 95/100\n",
      "30/30 [==============================] - 6s 211ms/step - loss: 0.0011 - accuracy: 0.0010 - val_loss: 6.2845e-04 - val_accuracy: 0.0042\n",
      "Epoch 96/100\n",
      "30/30 [==============================] - 6s 212ms/step - loss: 0.0010 - accuracy: 0.0010 - val_loss: 8.4874e-04 - val_accuracy: 0.0042\n",
      "Epoch 97/100\n",
      "30/30 [==============================] - 6s 214ms/step - loss: 0.0011 - accuracy: 0.0010 - val_loss: 6.3737e-04 - val_accuracy: 0.0042\n",
      "Epoch 98/100\n",
      "30/30 [==============================] - 6s 214ms/step - loss: 0.0012 - accuracy: 0.0010 - val_loss: 5.8639e-04 - val_accuracy: 0.0042\n",
      "Epoch 99/100\n",
      "30/30 [==============================] - 6s 216ms/step - loss: 0.0011 - accuracy: 0.0010 - val_loss: 6.1548e-04 - val_accuracy: 0.0042\n",
      "Epoch 100/100\n",
      "30/30 [==============================] - 7s 220ms/step - loss: 0.0011 - accuracy: 0.0010 - val_loss: 0.0013 - val_accuracy: 0.0042\n"
     ]
    },
    {
     "data": {
      "text/plain": [
       "<keras.callbacks.History at 0x25c22ff2a00>"
      ]
     },
     "execution_count": 45,
     "metadata": {},
     "output_type": "execute_result"
    }
   ],
   "source": [
    "rnn.fit(x, y, validation_split= 0.2, batch_size= 32, epochs= 100)"
   ]
  },
  {
   "cell_type": "code",
   "execution_count": 92,
   "id": "5341abff",
   "metadata": {},
   "outputs": [],
   "source": [
    "real_price= test_df['Open'].values"
   ]
  },
  {
   "cell_type": "code",
   "execution_count": 93,
   "id": "9d001118",
   "metadata": {},
   "outputs": [],
   "source": [
    "total_df = pd.concat((test_df['Open'], train_df['Open']), axis= 0)\n",
    "inputs= total_df[len(total_df) - len(test_df) - 60 :].values"
   ]
  },
  {
   "cell_type": "code",
   "execution_count": 94,
   "id": "0a6b3654",
   "metadata": {},
   "outputs": [
    {
     "data": {
      "text/plain": [
       "(80,)"
      ]
     },
     "execution_count": 94,
     "metadata": {},
     "output_type": "execute_result"
    }
   ],
   "source": [
    "inputs.shape"
   ]
  },
  {
   "cell_type": "code",
   "execution_count": 95,
   "id": "a4dfd5a0",
   "metadata": {},
   "outputs": [
    {
     "name": "stdout",
     "output_type": "stream",
     "text": [
      "1/1 [==============================] - 0s 95ms/step\n"
     ]
    }
   ],
   "source": [
    "inputs= inputs.reshape(-1,1)\n",
    "inputs = sc.transform(inputs)\n",
    "X_test = []\n",
    "for i in range(60, 80):\n",
    "    X_test.append(inputs[i-60:i, 0])\n",
    "X_test = np.array(X_test)\n",
    "X_test = np.reshape(X_test, (X_test.shape[0], X_test.shape[1], 1))\n",
    "predicted_price = rnn.predict(X_test)\n",
    "predicted_price = sc.inverse_transform(predicted_price)"
   ]
  },
  {
   "cell_type": "code",
   "execution_count": 96,
   "id": "c043b22f",
   "metadata": {},
   "outputs": [],
   "source": [
    "import matplotlib.pyplot as plt"
   ]
  },
  {
   "cell_type": "code",
   "execution_count": 97,
   "id": "c9b48fd8",
   "metadata": {},
   "outputs": [
    {
     "data": {
      "image/png": "[encoded data removed]",
      "text/plain": [
       "<Figure size 432x288 with 1 Axes>"
      ]
     },
     "metadata": {
      "needs_background": "light"
     },
     "output_type": "display_data"
    }
   ],
   "source": [
    "plt.plot(real_price, color = 'red', label = 'Real Google Stock Price')\n",
    "plt.plot(predicted_price, color = 'blue', label = 'Predicted Google Stock Price')\n",
    "plt.title('Google Stock Price Prediction')\n",
    "plt.xlabel('Time')\n",
    "plt.ylabel('Google Stock Price')\n",
    "plt.legend()\n",
    "plt.show()"
   ]
  },
  {
   "cell_type": "code",
   "execution_count": null,
   "id": "951b47c1",
   "metadata": {},
   "outputs": [],
   "source": []
  }
 ],
 "metadata": {
  "kernelspec": {
   "display_name": "Python 3 (ipykernel)",
   "language": "python",
   "name": "python3"
  },
  "language_info": {
   "codemirror_mode": {
    "name": "ipython",
    "version": 3
   },
   "file_extension": ".py",
   "mimetype": "text/x-python",
   "name": "python",
   "nbconvert_exporter": "python",
   "pygments_lexer": "ipython3",
   "version": "3.9.12"
  }
 },
 "nbformat": 4,
 "nbformat_minor": 5
}
